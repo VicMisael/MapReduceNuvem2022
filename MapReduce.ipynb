{
 "cells": [
  {
   "cell_type": "code",
   "execution_count": 1,
   "id": "fa191646-71aa-4543-b856-e44cf143344e",
   "metadata": {},
   "outputs": [],
   "source": [
    "from pyspark.sql import SparkSession\n",
    "from pyspark.sql.types import * \n",
    "from pyspark.sql.functions import *\n",
    "import pandas"
   ]
  },
  {
   "cell_type": "markdown",
   "id": "c6050c03",
   "metadata": {},
   "source": [
    "Configura o Spark, Rodando um servidor pelo WSL, tanto para o Spark, quanto para o Jupyter-Notebook\n"
   ]
  },
  {
   "cell_type": "code",
   "execution_count": 2,
   "id": "d3f635c7",
   "metadata": {},
   "outputs": [
    {
     "name": "stdout",
     "output_type": "stream",
     "text": [
      "22/12/05 00:39:40 WARN Utils: Your hostname, DESKTOP-UKKGOCL resolves to a loopback address: 127.0.1.1; using 172.18.63.234 instead (on interface eth0)\n",
      "22/12/05 00:39:40 WARN Utils: Set SPARK_LOCAL_IP if you need to bind to another address\n"
     ]
    },
    {
     "name": "stderr",
     "output_type": "stream",
     "text": [
      "Setting default log level to \"WARN\".\n",
      "To adjust logging level use sc.setLogLevel(newLevel). For SparkR, use setLogLevel(newLevel).\n"
     ]
    },
    {
     "name": "stdout",
     "output_type": "stream",
     "text": [
      "22/12/05 00:39:42 WARN NativeCodeLoader: Unable to load native-hadoop library for your platform... using builtin-java classes where applicable\n"
     ]
    }
   ],
   "source": [
    "spark = SparkSession.builder.appName(\"MapReduce tweets\").getOrCreate()"
   ]
  },
  {
   "cell_type": "code",
   "execution_count": 3,
   "id": "f8eec1ca",
   "metadata": {
    "scrolled": true
   },
   "outputs": [
    {
     "name": "stderr",
     "output_type": "stream",
     "text": [
      "\r",
      "[Stage 0:>                                                          (0 + 1) / 1]\r",
      "\r",
      "                                                                                \r"
     ]
    },
    {
     "name": "stdout",
     "output_type": "stream",
     "text": [
      "+------+------+\n",
      "|    _1|    _2|\n",
      "+------+------+\n",
      "|  Java| 20000|\n",
      "|Python|100000|\n",
      "| Scala|  3000|\n",
      "+------+------+\n",
      "\n"
     ]
    }
   ],
   "source": [
    "data = [(\"Java\", \"20000\"), (\"Python\", \"100000\"), (\"Scala\", \"3000\")]\n",
    "df = spark.createDataFrame(data)\n",
    "df.show()"
   ]
  },
  {
   "cell_type": "code",
   "execution_count": 4,
   "id": "45e938d2",
   "metadata": {},
   "outputs": [],
   "source": [
    "schema = StructType() \\\n",
    "      .add(\"tweet_id\",LongType(),True) \\\n",
    "      .add(\"content\",StringType(),True) \\\n",
    "      .add(\"coordinate_0\",DoubleType(),True) \\\n",
    "      .add(\"coordiante_1\",DoubleType(),True) \\\n",
    "      .add(\"retweeted\",StringType(),True) \\\n",
    "      .add(\"tweet_id2\",LongType(),True) \\\n",
    "      .add(\"tweet_id_str\",StringType(),True) \\\n",
    "      .add(\"created_at\",StringType(),True) \\\n",
    "      .add(\"created_at_str\",StringType(),True) \\\n",
    "      .add(\"in_reply_to_user_id\",StringType(),True) \\\n",
    "      .add(\"lang\",StringType(),True) \\\n",
    "      .add(\"place_name\",StringType(),True) \\\n",
    "      .add(\"place_id\",StringType(),True) \\\n",
    "      .add(\"place_bb_00\",StringType(),True) \\\n",
    "      .add(\"place_bb_01\",StringType(),True) \\\n",
    "      .add(\"place_bb_10\",StringType(),True) \\\n",
    "      .add(\"place_bb_11\",StringType(),True) \\\n",
    "      .add(\"place_bb_20\",StringType(),True) \\\n",
    "      .add(\"place_bb_21\",StringType(),True) \\\n",
    "      .add(\"place_bb_30\",StringType(),True) \\\n",
    "      .add(\"place_bb_31\",StringType(),True) \\\n",
    "      .add(\"place_type\",StringType(),True) \\\n",
    "      .add(\"place_country_code\",StringType(),True) \\\n",
    "      .add(\"place_country\",StringType(),True) \\\n",
    "      .add(\"place_full_name\",StringType(),True) \\\n",
    "      .add(\"user_name\",StringType(),True) \\\n",
    "      .add(\"user_id\",StringType(),True) \\\n",
    "      .add(\"user_id_str\",StringType(),True) \\\n",
    "      .add(\"user_location\",StringType(),True) \\\n",
    "      .add(\"user_friend_count\",StringType(),True) \\\n",
    "      .add(\"user_created_at\",StringType(),True) \\\n",
    "      .add(\"user_screen_name\",StringType(),True) "
   ]
  },
  {
   "cell_type": "code",
   "execution_count": 5,
   "id": "8cd684e9",
   "metadata": {},
   "outputs": [],
   "source": [
    "debate_tweets = spark.read.csv(\"debate-tweets.tsv\",sep=r'\\t',schema=schema)"
   ]
  },
  {
   "cell_type": "markdown",
   "id": "eacb2cda",
   "metadata": {},
   "source": [
    "Nomeia as colunas baseados no readme http://lia.ufc.br/~igobrilhante/twitter-home/"
   ]
  },
  {
   "cell_type": "markdown",
   "id": "da0269f5",
   "metadata": {},
   "source": [
    "\n",
    "Df vai ser o arquivo com o dataframe base"
   ]
  },
  {
   "cell_type": "code",
   "execution_count": 6,
   "id": "1d421554",
   "metadata": {
    "scrolled": true
   },
   "outputs": [
    {
     "data": {
      "text/plain": [
       "DataFrame[tweet_id: bigint, content: string, coordinate_0: double, coordiante_1: double, retweeted: string, tweet_id2: bigint, tweet_id_str: string, created_at: string, created_at_str: string, in_reply_to_user_id: string, lang: string, place_name: string, place_id: string, place_bb_00: string, place_bb_01: string, place_bb_10: string, place_bb_11: string, place_bb_20: string, place_bb_21: string, place_bb_30: string, place_bb_31: string, place_type: string, place_country_code: string, place_country: string, place_full_name: string, user_name: string, user_id: string, user_id_str: string, user_location: string, user_friend_count: string, user_created_at: string, user_screen_name: string]"
      ]
     },
     "execution_count": 6,
     "metadata": {},
     "output_type": "execute_result"
    }
   ],
   "source": [
    "debate_tweets"
   ]
  },
  {
   "cell_type": "code",
   "execution_count": 7,
   "id": "10920501",
   "metadata": {},
   "outputs": [
    {
     "name": "stderr",
     "output_type": "stream",
     "text": [
      "                                                                                \r"
     ]
    },
    {
     "data": {
      "text/plain": [
       "7228127"
      ]
     },
     "execution_count": 7,
     "metadata": {},
     "output_type": "execute_result"
    }
   ],
   "source": [
    "debate_tweets.count()"
   ]
  },
  {
   "cell_type": "code",
   "execution_count": 8,
   "id": "04b62831",
   "metadata": {},
   "outputs": [
    {
     "name": "stdout",
     "output_type": "stream",
     "text": [
      "22/12/05 00:39:56 WARN package: Truncated the string representation of a plan since it was too large. This behavior can be adjusted by setting 'spark.sql.debug.maxToStringFields'.\n"
     ]
    },
    {
     "data": {
      "text/html": [
       "<div>\n",
       "<style scoped>\n",
       "    .dataframe tbody tr th:only-of-type {\n",
       "        vertical-align: middle;\n",
       "    }\n",
       "\n",
       "    .dataframe tbody tr th {\n",
       "        vertical-align: top;\n",
       "    }\n",
       "\n",
       "    .dataframe thead th {\n",
       "        text-align: right;\n",
       "    }\n",
       "</style>\n",
       "<table border=\"1\" class=\"dataframe\">\n",
       "  <thead>\n",
       "    <tr style=\"text-align: right;\">\n",
       "      <th></th>\n",
       "      <th>tweet_id</th>\n",
       "      <th>content</th>\n",
       "      <th>coordinate_0</th>\n",
       "      <th>coordiante_1</th>\n",
       "      <th>retweeted</th>\n",
       "      <th>tweet_id2</th>\n",
       "      <th>tweet_id_str</th>\n",
       "      <th>created_at</th>\n",
       "      <th>created_at_str</th>\n",
       "      <th>in_reply_to_user_id</th>\n",
       "      <th>...</th>\n",
       "      <th>place_country_code</th>\n",
       "      <th>place_country</th>\n",
       "      <th>place_full_name</th>\n",
       "      <th>user_name</th>\n",
       "      <th>user_id</th>\n",
       "      <th>user_id_str</th>\n",
       "      <th>user_location</th>\n",
       "      <th>user_friend_count</th>\n",
       "      <th>user_created_at</th>\n",
       "      <th>user_screen_name</th>\n",
       "    </tr>\n",
       "  </thead>\n",
       "  <tbody>\n",
       "    <tr>\n",
       "      <th>0</th>\n",
       "      <td>522394422710136832</td>\n",
       "      <td>@anacddd verdade, olha o site</td>\n",
       "      <td>-27.516566</td>\n",
       "      <td>-48.646082</td>\n",
       "      <td>False</td>\n",
       "      <td>522394422710136832</td>\n",
       "      <td>522394422710136832</td>\n",
       "      <td>Wed Oct 15 14:31:50 +0000 2014</td>\n",
       "      <td>2014-10-15</td>\n",
       "      <td>303425830</td>\n",
       "      <td>...</td>\n",
       "      <td>None</td>\n",
       "      <td>None</td>\n",
       "      <td>None</td>\n",
       "      <td>Geovana Nunes</td>\n",
       "      <td>295414968</td>\n",
       "      <td>295414968</td>\n",
       "      <td>None</td>\n",
       "      <td>316</td>\n",
       "      <td>Mon May 09 00:12:02 +0000 2011</td>\n",
       "      <td>geovanannunes</td>\n",
       "    </tr>\n",
       "    <tr>\n",
       "      <th>1</th>\n",
       "      <td>522394422806581248</td>\n",
       "      <td>Que ñ*</td>\n",
       "      <td>-27.768328</td>\n",
       "      <td>-51.668323</td>\n",
       "      <td>False</td>\n",
       "      <td>522394422806581248</td>\n",
       "      <td>522394422806581248</td>\n",
       "      <td>Wed Oct 15 14:31:50 +0000 2014</td>\n",
       "      <td>2014-10-15</td>\n",
       "      <td>None</td>\n",
       "      <td>...</td>\n",
       "      <td>None</td>\n",
       "      <td>None</td>\n",
       "      <td>None</td>\n",
       "      <td>Rosane Fernandes</td>\n",
       "      <td>2409363642</td>\n",
       "      <td>2409363642</td>\n",
       "      <td>Cacique Doble RS</td>\n",
       "      <td>47</td>\n",
       "      <td>Mon Mar 24 18:06:40 +0000 2014</td>\n",
       "      <td>Rosane_fsf</td>\n",
       "    </tr>\n",
       "    <tr>\n",
       "      <th>2</th>\n",
       "      <td>522394422731100160</td>\n",
       "      <td>Vou quebrar a Bruna</td>\n",
       "      <td>-27.004640</td>\n",
       "      <td>-48.623519</td>\n",
       "      <td>False</td>\n",
       "      <td>522394422731100160</td>\n",
       "      <td>522394422731100160</td>\n",
       "      <td>Wed Oct 15 14:31:50 +0000 2014</td>\n",
       "      <td>2014-10-15</td>\n",
       "      <td>None</td>\n",
       "      <td>...</td>\n",
       "      <td>None</td>\n",
       "      <td>None</td>\n",
       "      <td>None</td>\n",
       "      <td>Bebel</td>\n",
       "      <td>162447082</td>\n",
       "      <td>162447082</td>\n",
       "      <td>None</td>\n",
       "      <td>513</td>\n",
       "      <td>Sat Jul 03 18:03:35 +0000 2010</td>\n",
       "      <td>_isarenata</td>\n",
       "    </tr>\n",
       "    <tr>\n",
       "      <th>3</th>\n",
       "      <td>522394422810783745</td>\n",
       "      <td>agora vou p segundo andar e depois p 3° 👏</td>\n",
       "      <td>-15.852082</td>\n",
       "      <td>-47.961413</td>\n",
       "      <td>False</td>\n",
       "      <td>522394422810783745</td>\n",
       "      <td>522394422810783745</td>\n",
       "      <td>Wed Oct 15 14:31:50 +0000 2014</td>\n",
       "      <td>2014-10-15</td>\n",
       "      <td>None</td>\n",
       "      <td>...</td>\n",
       "      <td>None</td>\n",
       "      <td>None</td>\n",
       "      <td>None</td>\n",
       "      <td>tatá</td>\n",
       "      <td>387694391</td>\n",
       "      <td>387694391</td>\n",
       "      <td>None</td>\n",
       "      <td>347</td>\n",
       "      <td>Sun Oct 09 14:19:52 +0000 2011</td>\n",
       "      <td>thayflausino</td>\n",
       "    </tr>\n",
       "    <tr>\n",
       "      <th>4</th>\n",
       "      <td>522394423137943553</td>\n",
       "      <td>Me sinto tão bem - Mika #QueroNoTVZ</td>\n",
       "      <td>-3.755046</td>\n",
       "      <td>-38.566769</td>\n",
       "      <td>False</td>\n",
       "      <td>522394423137943553</td>\n",
       "      <td>522394423137943553</td>\n",
       "      <td>Wed Oct 15 14:31:50 +0000 2014</td>\n",
       "      <td>2014-10-15</td>\n",
       "      <td>None</td>\n",
       "      <td>...</td>\n",
       "      <td>None</td>\n",
       "      <td>None</td>\n",
       "      <td>None</td>\n",
       "      <td>Simone ♥ DDM's ♥</td>\n",
       "      <td>152792963</td>\n",
       "      <td>152792963</td>\n",
       "      <td>Fortaleza/Ceará</td>\n",
       "      <td>719</td>\n",
       "      <td>Sun Jun 06 22:15:22 +0000 2010</td>\n",
       "      <td>simoneesilva</td>\n",
       "    </tr>\n",
       "    <tr>\n",
       "      <th>5</th>\n",
       "      <td>522394423188271104</td>\n",
       "      <td>Eu estou aqui, deixando a vida me guiar, não é...</td>\n",
       "      <td>-22.846869</td>\n",
       "      <td>-43.308830</td>\n",
       "      <td>False</td>\n",
       "      <td>522394423188271104</td>\n",
       "      <td>522394423188271104</td>\n",
       "      <td>Wed Oct 15 14:31:50 +0000 2014</td>\n",
       "      <td>2014-10-15</td>\n",
       "      <td>None</td>\n",
       "      <td>...</td>\n",
       "      <td>None</td>\n",
       "      <td>None</td>\n",
       "      <td>None</td>\n",
       "      <td>Gar6</td>\n",
       "      <td>749780077</td>\n",
       "      <td>749780077</td>\n",
       "      <td>Rio de Janeiro</td>\n",
       "      <td>356</td>\n",
       "      <td>Fri Aug 10 17:56:10 +0000 2012</td>\n",
       "      <td>juliagar6</td>\n",
       "    </tr>\n",
       "    <tr>\n",
       "      <th>6</th>\n",
       "      <td>522394423238606848</td>\n",
       "      <td>Quando vai embora tudo fica sem graça</td>\n",
       "      <td>-22.904301</td>\n",
       "      <td>-43.544403</td>\n",
       "      <td>False</td>\n",
       "      <td>522394423238606848</td>\n",
       "      <td>522394423238606848</td>\n",
       "      <td>Wed Oct 15 14:31:50 +0000 2014</td>\n",
       "      <td>2014-10-15</td>\n",
       "      <td>None</td>\n",
       "      <td>...</td>\n",
       "      <td>None</td>\n",
       "      <td>None</td>\n",
       "      <td>None</td>\n",
       "      <td>Isa</td>\n",
       "      <td>2476253858</td>\n",
       "      <td>2476253858</td>\n",
       "      <td>None</td>\n",
       "      <td>164</td>\n",
       "      <td>Sun May 04 02:22:02 +0000 2014</td>\n",
       "      <td>isabelleecorrea</td>\n",
       "    </tr>\n",
       "    <tr>\n",
       "      <th>7</th>\n",
       "      <td>522394423528022016</td>\n",
       "      <td>@paynecaralhudo kkkkkk n n sou legal kkk</td>\n",
       "      <td>-23.509058</td>\n",
       "      <td>-46.968920</td>\n",
       "      <td>False</td>\n",
       "      <td>522394423528022016</td>\n",
       "      <td>522394423528022016</td>\n",
       "      <td>Wed Oct 15 14:31:50 +0000 2014</td>\n",
       "      <td>2014-10-15</td>\n",
       "      <td>518826601</td>\n",
       "      <td>...</td>\n",
       "      <td>None</td>\n",
       "      <td>None</td>\n",
       "      <td>None</td>\n",
       "      <td>Júlio Lessa ✌</td>\n",
       "      <td>324937648</td>\n",
       "      <td>324937648</td>\n",
       "      <td>None</td>\n",
       "      <td>943</td>\n",
       "      <td>Mon Jun 27 13:28:08 +0000 2011</td>\n",
       "      <td>SiempreCtgLS</td>\n",
       "    </tr>\n",
       "    <tr>\n",
       "      <th>8</th>\n",
       "      <td>522394423632875521</td>\n",
       "      <td>Conceição da Barra acho que vou pra outro dia</td>\n",
       "      <td>-18.713338</td>\n",
       "      <td>-40.405779</td>\n",
       "      <td>False</td>\n",
       "      <td>522394423632875521</td>\n",
       "      <td>522394423632875521</td>\n",
       "      <td>Wed Oct 15 14:31:50 +0000 2014</td>\n",
       "      <td>2014-10-15</td>\n",
       "      <td>None</td>\n",
       "      <td>...</td>\n",
       "      <td>None</td>\n",
       "      <td>None</td>\n",
       "      <td>None</td>\n",
       "      <td>♔Lu♔</td>\n",
       "      <td>536501962</td>\n",
       "      <td>536501962</td>\n",
       "      <td>Nova Venécia-Es</td>\n",
       "      <td>82</td>\n",
       "      <td>Sun Mar 25 17:45:22 +0000 2012</td>\n",
       "      <td>Hey_Marrenta</td>\n",
       "    </tr>\n",
       "    <tr>\n",
       "      <th>9</th>\n",
       "      <td>522394424010362881</td>\n",
       "      <td>@Maniavato te amo ♥</td>\n",
       "      <td>-23.064705</td>\n",
       "      <td>-45.717173</td>\n",
       "      <td>False</td>\n",
       "      <td>522394424010362881</td>\n",
       "      <td>522394424010362881</td>\n",
       "      <td>Wed Oct 15 14:31:50 +0000 2014</td>\n",
       "      <td>2014-10-15</td>\n",
       "      <td>542665678</td>\n",
       "      <td>...</td>\n",
       "      <td>None</td>\n",
       "      <td>None</td>\n",
       "      <td>None</td>\n",
       "      <td>queen</td>\n",
       "      <td>1414028317</td>\n",
       "      <td>1414028317</td>\n",
       "      <td>| no puteiro com a Ju. |</td>\n",
       "      <td>1911</td>\n",
       "      <td>Wed May 08 22:50:20 +0000 2013</td>\n",
       "      <td>ButeraCertified</td>\n",
       "    </tr>\n",
       "  </tbody>\n",
       "</table>\n",
       "<p>10 rows × 32 columns</p>\n",
       "</div>"
      ],
      "text/plain": [
       "             tweet_id                                            content  \\\n",
       "0  522394422710136832                      @anacddd verdade, olha o site   \n",
       "1  522394422806581248                                             Que ñ*   \n",
       "2  522394422731100160                                Vou quebrar a Bruna   \n",
       "3  522394422810783745          agora vou p segundo andar e depois p 3° 👏   \n",
       "4  522394423137943553                Me sinto tão bem - Mika #QueroNoTVZ   \n",
       "5  522394423188271104  Eu estou aqui, deixando a vida me guiar, não é...   \n",
       "6  522394423238606848              Quando vai embora tudo fica sem graça   \n",
       "7  522394423528022016           @paynecaralhudo kkkkkk n n sou legal kkk   \n",
       "8  522394423632875521      Conceição da Barra acho que vou pra outro dia   \n",
       "9  522394424010362881                                @Maniavato te amo ♥   \n",
       "\n",
       "   coordinate_0  coordiante_1 retweeted           tweet_id2  \\\n",
       "0    -27.516566    -48.646082     False  522394422710136832   \n",
       "1    -27.768328    -51.668323     False  522394422806581248   \n",
       "2    -27.004640    -48.623519     False  522394422731100160   \n",
       "3    -15.852082    -47.961413     False  522394422810783745   \n",
       "4     -3.755046    -38.566769     False  522394423137943553   \n",
       "5    -22.846869    -43.308830     False  522394423188271104   \n",
       "6    -22.904301    -43.544403     False  522394423238606848   \n",
       "7    -23.509058    -46.968920     False  522394423528022016   \n",
       "8    -18.713338    -40.405779     False  522394423632875521   \n",
       "9    -23.064705    -45.717173     False  522394424010362881   \n",
       "\n",
       "         tweet_id_str                      created_at created_at_str  \\\n",
       "0  522394422710136832  Wed Oct 15 14:31:50 +0000 2014     2014-10-15   \n",
       "1  522394422806581248  Wed Oct 15 14:31:50 +0000 2014     2014-10-15   \n",
       "2  522394422731100160  Wed Oct 15 14:31:50 +0000 2014     2014-10-15   \n",
       "3  522394422810783745  Wed Oct 15 14:31:50 +0000 2014     2014-10-15   \n",
       "4  522394423137943553  Wed Oct 15 14:31:50 +0000 2014     2014-10-15   \n",
       "5  522394423188271104  Wed Oct 15 14:31:50 +0000 2014     2014-10-15   \n",
       "6  522394423238606848  Wed Oct 15 14:31:50 +0000 2014     2014-10-15   \n",
       "7  522394423528022016  Wed Oct 15 14:31:50 +0000 2014     2014-10-15   \n",
       "8  522394423632875521  Wed Oct 15 14:31:50 +0000 2014     2014-10-15   \n",
       "9  522394424010362881  Wed Oct 15 14:31:50 +0000 2014     2014-10-15   \n",
       "\n",
       "  in_reply_to_user_id  ... place_country_code place_country place_full_name  \\\n",
       "0           303425830  ...               None          None            None   \n",
       "1                None  ...               None          None            None   \n",
       "2                None  ...               None          None            None   \n",
       "3                None  ...               None          None            None   \n",
       "4                None  ...               None          None            None   \n",
       "5                None  ...               None          None            None   \n",
       "6                None  ...               None          None            None   \n",
       "7           518826601  ...               None          None            None   \n",
       "8                None  ...               None          None            None   \n",
       "9           542665678  ...               None          None            None   \n",
       "\n",
       "          user_name     user_id user_id_str              user_location  \\\n",
       "0     Geovana Nunes   295414968   295414968                       None   \n",
       "1  Rosane Fernandes  2409363642  2409363642           Cacique Doble RS   \n",
       "2            Bebel    162447082   162447082                       None   \n",
       "3              tatá   387694391   387694391                       None   \n",
       "4  Simone ♥ DDM's ♥   152792963   152792963            Fortaleza/Ceará   \n",
       "5              Gar6   749780077   749780077             Rio de Janeiro   \n",
       "6               Isa  2476253858  2476253858                       None   \n",
       "7     Júlio Lessa ✌   324937648   324937648                       None   \n",
       "8              ♔Lu♔   536501962   536501962            Nova Venécia-Es   \n",
       "9            queen   1414028317  1414028317  | no puteiro com a Ju. |    \n",
       "\n",
       "  user_friend_count                 user_created_at user_screen_name  \n",
       "0               316  Mon May 09 00:12:02 +0000 2011    geovanannunes  \n",
       "1                47  Mon Mar 24 18:06:40 +0000 2014       Rosane_fsf  \n",
       "2               513  Sat Jul 03 18:03:35 +0000 2010       _isarenata  \n",
       "3               347  Sun Oct 09 14:19:52 +0000 2011     thayflausino  \n",
       "4               719  Sun Jun 06 22:15:22 +0000 2010     simoneesilva  \n",
       "5               356  Fri Aug 10 17:56:10 +0000 2012        juliagar6  \n",
       "6               164  Sun May 04 02:22:02 +0000 2014  isabelleecorrea  \n",
       "7               943  Mon Jun 27 13:28:08 +0000 2011     SiempreCtgLS  \n",
       "8                82  Sun Mar 25 17:45:22 +0000 2012     Hey_Marrenta  \n",
       "9              1911  Wed May 08 22:50:20 +0000 2013  ButeraCertified  \n",
       "\n",
       "[10 rows x 32 columns]"
      ]
     },
     "execution_count": 8,
     "metadata": {},
     "output_type": "execute_result"
    }
   ],
   "source": [
    "debate_tweets.limit(10).toPandas()"
   ]
  },
  {
   "cell_type": "markdown",
   "id": "ff48465d",
   "metadata": {},
   "source": [
    "Conferida se os nomes e tipos das colunas estão corretos, partimos para a primeira questão"
   ]
  },
  {
   "cell_type": "markdown",
   "id": "9d05efb8",
   "metadata": {},
   "source": []
  },
  {
   "cell_type": "code",
   "execution_count": 9,
   "id": "77ad926b",
   "metadata": {},
   "outputs": [],
   "source": [
    "spark.conf.set(\"spark.sql.legacy.timeParserPolicy\",\"LEGACY\") \n",
    "hashtag_regex=\"^#\\w+|\\s#\\w+\"\n",
    "debate_tweets_timestamp=debate_tweets.withColumn(\"timestamp\",to_timestamp('created_at', 'EEE LLL d HH:mm:ss z yyyy'))\n",
    "debate_filtrado1=debate_tweets_timestamp.select('content','created_at',\"timestamp\")"
   ]
  },
  {
   "cell_type": "markdown",
   "id": "d45dd4c0",
   "metadata": {},
   "source": [
    "1)Quais foram as hashtags mais usadas pela manhã, tarde e noite? (1,0 ponto)\n",
    "\n",
    "Como só vamos precisar da coluna content, e created_at, limpo as outras colunas"
   ]
  },
  {
   "cell_type": "code",
   "execution_count": 10,
   "id": "897bfe6b",
   "metadata": {},
   "outputs": [],
   "source": [
    "contains_hashtag=debate_filtrado1.filter(debate_filtrado1[\"content\"].rlike(hashtag_regex)).withColumn(\"hashtag\",regexp_extract(\"content\",hashtag_regex,0))\\\n",
    ".withColumn(\"hour\",hour(\"timestamp\"))"
   ]
  },
  {
   "cell_type": "code",
   "execution_count": 11,
   "id": "61488037",
   "metadata": {},
   "outputs": [],
   "source": [
    "contains_hashtag_manha=contains_hashtag.filter(contains_hashtag[\"hour\"]>=6).filter(contains_hashtag[\"hour\"]<13);\n",
    "contains_hashtag_tarde=contains_hashtag.filter(contains_hashtag[\"hour\"]>=13).filter(contains_hashtag[\"hour\"]<18);\n",
    "contains_hashtag_noite=contains_hashtag.filter(contains_hashtag[\"hour\"]>=18).union(contains_hashtag.filter(contains_hashtag[\"hour\"]<6));"
   ]
  },
  {
   "cell_type": "code",
   "execution_count": 12,
   "id": "d6a11d10",
   "metadata": {},
   "outputs": [
    {
     "name": "stderr",
     "output_type": "stream",
     "text": [
      "                                                                                \r"
     ]
    },
    {
     "data": {
      "text/plain": [
       "495260"
      ]
     },
     "execution_count": 12,
     "metadata": {},
     "output_type": "execute_result"
    }
   ],
   "source": [
    "contains_hashtag_manha.count()\n",
    "contains_hashtag_tarde.count()\n",
    "contains_hashtag_noite.count()"
   ]
  },
  {
   "cell_type": "code",
   "execution_count": 13,
   "id": "3be37e60",
   "metadata": {},
   "outputs": [
    {
     "name": "stderr",
     "output_type": "stream",
     "text": [
      "[Stage 16:=====================================================>  (20 + 1) / 21]\r"
     ]
    },
    {
     "name": "stdout",
     "output_type": "stream",
     "text": [
      "+--------------------+-----+\n",
      "|             hashtag|count|\n",
      "+--------------------+-----+\n",
      "|   #EMABiggestFans1D|37297|\n",
      "| #EMABiggestFansJ...|32625|\n",
      "|#EMABiggestFansJu...| 3807|\n",
      "|   #EMABiggestFans1D| 3083|\n",
      "|         #QueroNoTVZ| 2645|\n",
      "|         #QueroNoTVZ| 1537|\n",
      "| #VoteVampsTeenAw...|  976|\n",
      "|       #AustinMahone|  768|\n",
      "|       #AUSTINMAHONE|  733|\n",
      "|             #trndnl|  566|\n",
      "| #EMABiggestFans5SOS|  515|\n",
      "| #ChristianNoEnco...|  482|\n",
      "|                  #E|  475|\n",
      "|        #StealMyGirl|  380|\n",
      "|             #bomdia|  363|\n",
      "|               #AMAs|  345|\n",
      "|#BuyLoveMeHarderO...|  313|\n",
      "|       #KCAArgentina|  312|\n",
      "| #HarryRefollowLuana|  296|\n",
      "|             #TOPTVZ|  291|\n",
      "+--------------------+-----+\n",
      "only showing top 20 rows\n",
      "\n"
     ]
    },
    {
     "name": "stderr",
     "output_type": "stream",
     "text": [
      "\r",
      "                                                                                \r"
     ]
    }
   ],
   "source": [
    "contains_hashtag_manha.groupBy(\"hashtag\").count().sort('count', ascending=False).limit(50).show()"
   ]
  },
  {
   "cell_type": "code",
   "execution_count": 14,
   "id": "591277a2",
   "metadata": {},
   "outputs": [
    {
     "name": "stderr",
     "output_type": "stream",
     "text": [
      "[Stage 19:==================================================>     (19 + 2) / 21]\r"
     ]
    },
    {
     "name": "stdout",
     "output_type": "stream",
     "text": [
      "+--------------------+-----+\n",
      "|             hashtag|count|\n",
      "+--------------------+-----+\n",
      "|   #EMABiggestFans1D|47300|\n",
      "| #EMABiggestFansJ...|41537|\n",
      "|        #StealMyGirl| 5896|\n",
      "|#EMABiggestFansJu...| 4858|\n",
      "|   #EMABiggestFans1D| 4040|\n",
      "|   #bigpaynodanceoff| 3648|\n",
      "| #LuanSantanaNaHo...| 1970|\n",
      "|    #CartersNewVideo| 1679|\n",
      "|     #FlyNoMixDiario| 1141|\n",
      "| #demiyourstorydo...|  976|\n",
      "| #BuyLoveMeHarder...|  908|\n",
      "|       #AustinMahone|  892|\n",
      "|    #HottieOfTheWeek|  663|\n",
      "|               #AMAs|  611|\n",
      "|         #QueroNoTVZ|  604|\n",
      "|          #Vote5HEMA|  593|\n",
      "|   #UnlockMockingjay|  567|\n",
      "|      #MTVhomecoming|  557|\n",
      "|     #flyNoMixdiario|  553|\n",
      "|           #VevoLIFT|  506|\n",
      "+--------------------+-----+\n",
      "only showing top 20 rows\n",
      "\n"
     ]
    },
    {
     "name": "stderr",
     "output_type": "stream",
     "text": [
      "\r",
      "                                                                                \r"
     ]
    }
   ],
   "source": [
    "contains_hashtag_tarde.groupBy(\"hashtag\").count().sort('count', ascending=False).limit(50).show()"
   ]
  },
  {
   "cell_type": "code",
   "execution_count": 15,
   "id": "eef18d7a",
   "metadata": {},
   "outputs": [
    {
     "name": "stderr",
     "output_type": "stream",
     "text": [
      "[Stage 22:=====================================================>  (40 + 2) / 42]\r"
     ]
    },
    {
     "name": "stdout",
     "output_type": "stream",
     "text": [
      "+--------------------+------+\n",
      "|             hashtag| count|\n",
      "+--------------------+------+\n",
      "| #EMABiggestFansJ...|105331|\n",
      "|   #EMABiggestFans1D|104991|\n",
      "|#EMABiggestFansJu...| 14208|\n",
      "|       #camilasayshi|  9024|\n",
      "|   #EMABiggestFans1D|  8589|\n",
      "|     #TheVoiceBrasil|  2315|\n",
      "|        #DebateNoSBT|  2229|\n",
      "|                  #E|  2045|\n",
      "|          #Vote5HEMA|  1968|\n",
      "|        #AssistamODR|  1953|\n",
      "|     #DebateNaRecord|  1698|\n",
      "|                #Lan|  1677|\n",
      "|             #trndnl|  1570|\n",
      "| #LinkinParkNoMul...|  1392|\n",
      "|     #askdirectioner|  1360|\n",
      "|       #AustinMahone|  1334|\n",
      "|   #askjadelittlemix|  1284|\n",
      "|    #QueroDilmaTreze|  1159|\n",
      "|           #AFazenda|  1110|\n",
      "| #LuaBlancoNoAgor...|  1104|\n",
      "+--------------------+------+\n",
      "only showing top 20 rows\n",
      "\n"
     ]
    },
    {
     "name": "stderr",
     "output_type": "stream",
     "text": [
      "\r",
      "                                                                                \r"
     ]
    }
   ],
   "source": [
    "contains_hashtag_noite.groupBy(\"hashtag\").count().sort('count', ascending=False).limit(50).show()"
   ]
  },
  {
   "cell_type": "markdown",
   "id": "e4e1807e",
   "metadata": {},
   "source": [
    "b) Quais as hashtags mais usadas em cada dia? (1,0 ponto)"
   ]
  },
  {
   "cell_type": "markdown",
   "id": "edfe7ab8",
   "metadata": {},
   "source": [
    "c) Quais as hashtags mais usadas em cada dia? (1,0 ponto)"
   ]
  },
  {
   "cell_type": "markdown",
   "id": "155ee218",
   "metadata": {},
   "source": [
    "d) Quais as principais sentenças relacionadas à palavra “Dilma”? (1,0 ponto)"
   ]
  },
  {
   "cell_type": "markdown",
   "id": "72c4b7cb",
   "metadata": {},
   "source": [
    "2)Dado um dataset com tweets relacionados à visita da Torre Eiffel em Paris, \n",
    "responda:"
   ]
  },
  {
   "cell_type": "markdown",
   "id": "414af5ca",
   "metadata": {},
   "source": [
    "a) Encontre as palavras mais utilizadas nas avaliações. (1,0 ponto)"
   ]
  },
  {
   "cell_type": "markdown",
   "id": "47c98ffb",
   "metadata": {},
   "source": [
    "c) Encontre os principais tópicos relacionados às revisões. (1,0 ponto"
   ]
  },
  {
   "cell_type": "markdown",
   "id": "2eebadbd",
   "metadata": {},
   "source": [
    "d) Mapeie a distribuição temporal das revisões. (1,0 ponto)"
   ]
  }
 ],
 "metadata": {
  "kernelspec": {
   "display_name": "Python 3 (ipykernel)",
   "language": "python",
   "name": "python3"
  },
  "language_info": {
   "codemirror_mode": {
    "name": "ipython",
    "version": 3
   },
   "file_extension": ".py",
   "mimetype": "text/x-python",
   "name": "python",
   "nbconvert_exporter": "python",
   "pygments_lexer": "ipython3",
   "version": "3.10.6"
  }
 },
 "nbformat": 4,
 "nbformat_minor": 5
}
